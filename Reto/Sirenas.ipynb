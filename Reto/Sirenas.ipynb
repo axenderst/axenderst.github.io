{
 "cells": [
  {
   "cell_type": "markdown",
   "metadata": {},
   "source": [
    "<center><h1>Desafío El Seductor Canto de las Sirenas</h1></center>\n",
    "Las sirenas endémicas que rodean la isla donde se encuentra tu celda tienen un seductor canto con el que atraen a sus machos y aseguran la persistencia de sus especie.  Ha emigrado, solicitando refugio, una especie de sirenas de otros lares. Esta especie emite un sonido que interfiere con el canto de las sirenas endémicas. \n",
    "\n",
    "El guardián del océano va a delimitar una región para cada especie y pide tu ayuda para distribuirlas. Tú recibiste una base de datos (sirenas_endemicas_y_sirenas_migrantes_historico.csv) que el museo de historia natural te ha facilitado con características de individuos de cada especie. \n",
    "\n",
    "Recibiste también una base de datos con los individuos que el guardián va a clasificar (sirenas_endemicas_y_sirenas_migrantes.csv). Indica en esta última, a qué especie de sirena pertenece cada individuo.\n",
    "<ul>\n",
    "<li>A.\tExplica la idea general de tu solución con dibujos, diagramas, videos, legos, bolitas de plastilina, etc.</li>\n",
    "<li>B.\tImplementa tu modelo explicando los pasos.</li>\n",
    "<li>C.\tCompleta el archivo (sirenas_endemicas_y_sirenas_migrantes.csv que entregarás al guardián.</li>\n",
    "</ul>                  "
   ]
  },
  {
   "cell_type": "markdown",
   "metadata": {},
   "source": [
    "<center><h1>A. Explicación de la Solución</h1></center>"
   ]
  },
  {
   "cell_type": "markdown",
   "metadata": {},
   "source": [
    "<img src=\"./img/sirenas.jpg\">"
   ]
  },
  {
   "cell_type": "markdown",
   "metadata": {},
   "source": [
    "Al analizar el problema, se identifica que es un problema de clasificación, dónde hay que clasificar a las sirenas entre endémicas y migrantes.\n",
    "\n",
    "Se define utilizar el algoritmo perceptrón para poder clasificar a las sirenas.\n",
    "\n",
    "Se sigue el siguiente algoritmo: \n",
    "\n",
    "* Carga de los datos\n",
    "* Limpieza de los datos\n",
    "* Definición de proporción datasets Entrenamiento (80%) / Evaluación (20%):\n",
    "    - Atributos de Entrenamiento\n",
    "    - Atributos de Evaluación\n",
    "    - Target Entrenamiento\n",
    "    - Target Evaluación\n",
    "* Entrenamiento del modelo\n",
    "* Evaluación del desempeño del modelo\n",
    "* Uso del clasificador en nueva información\n",
    "* Completar archivo en base a resultados del clasificador"
   ]
  },
  {
   "cell_type": "markdown",
   "metadata": {},
   "source": [
    "<center><h1>B. Implementación del modelo</h1></center>"
   ]
  },
  {
   "cell_type": "code",
   "execution_count": 10,
   "metadata": {
    "collapsed": true
   },
   "outputs": [],
   "source": [
    "#Importación de librerías a utilizar:\n",
    "import pandas as pd\n",
    "from sklearn.neural_network import MLPClassifier\n",
    "from sklearn.metrics import classification_report,confusion_matrix"
   ]
  },
  {
   "cell_type": "code",
   "execution_count": 4,
   "metadata": {
    "collapsed": true
   },
   "outputs": [],
   "source": [
    "#Carga de los datasets usando la librería pandas.\n",
    "data = pd.read_csv('./datasets/sirenas_endemicas_y_sirenas_migrantes_historico.csv',header=0)\n",
    "\n",
    "#Hacemos un poco de limpieza de datos:\n",
    "#Remplazamos los strings que indican el tipo de sirena por valores Int, para usar como target esa columna\n",
    "data=data.replace(to_replace='sirena_endemica', value=0)\n",
    "data=data.replace(to_replace='sirena_migrante', value=1)"
   ]
  },
  {
   "cell_type": "code",
   "execution_count": 6,
   "metadata": {
    "collapsed": true
   },
   "outputs": [],
   "source": [
    "#Generamos los datasets de entrenamiento y prueba (80% del dataset)\n",
    "\n",
    "#Tomamos las filas de enmedio para generar el dataset de entrenamiento (80%)\n",
    "x_train = data.iloc[10:90,0:4] \n",
    "\n",
    "#Tomamos las primeras y las últimas filas del dataset para generar el dataset de prueba (20%)\n",
    "x_test1 = data.iloc[0:10, 0:4]\n",
    "x_test2 =data.iloc[90:100, 0:4]\n",
    "x_test = pd.concat([x_test1, x_test2], ignore_index=False) # Concatenando las primeras y las últimas filas en un solo dataframe"
   ]
  },
  {
   "cell_type": "code",
   "execution_count": 7,
   "metadata": {
    "collapsed": true
   },
   "outputs": [],
   "source": [
    "# Generamos el dataset target siguiendo el mismo principio que utilizamos en el paso anterior.\n",
    "\n",
    "#Tomamos las filas de enmedio para generar el target de entrenamiento (80%)\n",
    "y_train = data.iloc[10:90,4:]\n",
    "\n",
    "#Tomamos las primeras y las últimas filas del dataset para generar el target de evaluación (20%)\n",
    "y_test1 = data.iloc[0:10, 4:]\n",
    "y_test2= data.iloc[90:100, 4:]\n",
    "y_test = pd.concat([y_test1, y_test2], ignore_index=False) # Concatenamos las primeras y las últimas filas en un solo dataframe"
   ]
  },
  {
   "cell_type": "code",
   "execution_count": 8,
   "metadata": {},
   "outputs": [
    {
     "data": {
      "text/plain": [
       "MLPClassifier(activation='relu', alpha=0.0001, batch_size='auto', beta_1=0.9,\n",
       "       beta_2=0.999, early_stopping=False, epsilon=1e-08,\n",
       "       hidden_layer_sizes=(13, 13, 13), learning_rate='constant',\n",
       "       learning_rate_init=0.001, max_iter=500, momentum=0.9,\n",
       "       nesterovs_momentum=True, power_t=0.5, random_state=None,\n",
       "       shuffle=True, solver='adam', tol=0.0001, validation_fraction=0.1,\n",
       "       verbose=False, warm_start=False)"
      ]
     },
     "execution_count": 8,
     "metadata": {},
     "output_type": "execute_result"
    }
   ],
   "source": [
    "# Generación del modelo MultiLayer Perceptron.\n",
    "\n",
    "mlp = MLPClassifier(hidden_layer_sizes=(13,13,13),max_iter=500) #Instancia del modelo\n",
    "mlp.fit(x_train,y_train.values.ravel()) #Entrenamiento del modelo"
   ]
  },
  {
   "cell_type": "code",
   "execution_count": 11,
   "metadata": {},
   "outputs": [
    {
     "name": "stdout",
     "output_type": "stream",
     "text": [
      "Accuracy:  1.0\n",
      "-------------CLASSIFICATION REPORT-------------\n",
      "             precision    recall  f1-score   support\n",
      "\n",
      "          0       1.00      1.00      1.00        10\n",
      "          1       1.00      1.00      1.00        10\n",
      "\n",
      "avg / total       1.00      1.00      1.00        20\n",
      "\n"
     ]
    }
   ],
   "source": [
    "# Evaluamos el desempeño del modelo con los datasets de evaluación\n",
    "\n",
    "y_pred= mlp.predict(x_test) \n",
    "print(\"Accuracy: \", metrics.accuracy_score(y_test, y_pred))\n",
    "\n",
    "\n",
    "print(\"-------------CLASSIFICATION REPORT-------------\")\n",
    "print(classification_report(y_test,y_pred))"
   ]
  },
  {
   "cell_type": "markdown",
   "metadata": {},
   "source": [
    "De la evaluación anterior podemos descubrir que el modelo entrenó para tener un nivel de Certeza del 100%, lo cual no siempre es bueno, porque probablemente es un modelo que no responderá bien cuando existan cambios en los datos, sin embargo como se cuenta con relativamente poca información de entrenamiento, se considera una buena elección. "
   ]
  },
  {
   "cell_type": "markdown",
   "metadata": {},
   "source": [
    "<center><h1>C. Completar archivo para entregar al guardián</h1></center>"
   ]
  },
  {
   "cell_type": "code",
   "execution_count": 17,
   "metadata": {},
   "outputs": [],
   "source": [
    "#Para completar el archivo, primero cargamos el archivo con la data que tenemos que clasificar\n",
    "data_pred = pd.read_csv('./datasets/sirenas_endemicas_y_sirenas_migrantes.csv',header=0)\n",
    "\n",
    "#Tomamos las filas y columnas que necesitamos como atributos\n",
    "x_pred = data_pred.iloc[0:40,0:4]\n",
    "clase = mlp.predict(x_pred) #Usamos el modelo que entrenamos para predecir la clasificación correcta de las sirenas\n",
    "\n",
    "x_pred['especie'] = clase #El vector resultante, lo anexamos al dataframe para completar la información del archivo.\n",
    "\n",
    "#Sustituimos los valores booleanos por las cadenas originales\n",
    "x_pred['especie']=x_pred['especie'].replace(to_replace=0, value='sirena_endemica') \n",
    "x_pred['especie']=x_pred['especie'].replace(to_replace=1, value='sirena_migrante')\n",
    "\n",
    "#Generamos el archivo final\n",
    "x_pred.to_csv('sirenas_endemicas_y_sirenas_migrantes.csv')"
   ]
  },
  {
   "cell_type": "code",
   "execution_count": 18,
   "metadata": {},
   "outputs": [
    {
     "name": "stdout",
     "output_type": "stream",
     "text": [
      "     v1   v2   v3   v4          especie\n",
      "0   6.6  2.3  4.1  1.5  sirena_endemica\n",
      "1   4.5  2.9  2.4  1.6  sirena_migrante\n",
      "2   5.7  2.3  6.3  0.4  sirena_endemica\n",
      "3   5.1  3.3  1.7  2.1  sirena_migrante\n",
      "4   7.0  4.0  1.0  1.6  sirena_migrante\n",
      "5   7.6  2.3  2.1  1.2  sirena_migrante\n",
      "6   4.7  3.3  5.6  1.8  sirena_endemica\n",
      "7   4.9  3.8  2.0  2.4  sirena_migrante\n",
      "8   7.4  3.0  4.3  0.8  sirena_endemica\n",
      "9   6.0  3.0  2.5  2.1  sirena_migrante\n",
      "10  6.2  4.1  6.3  2.0  sirena_endemica\n",
      "11  7.7  2.3  2.5  0.9  sirena_migrante\n",
      "12  6.4  4.0  6.8  0.8  sirena_endemica\n",
      "13  5.7  4.4  5.5  0.9  sirena_endemica\n",
      "14  4.3  4.0  4.3  0.7  sirena_endemica\n",
      "15  7.7  3.6  6.2  2.1  sirena_endemica\n",
      "16  6.3  3.7  1.5  2.2  sirena_migrante\n",
      "17  5.6  3.9  4.5  2.3  sirena_endemica\n",
      "18  6.3  4.0  6.7  0.3  sirena_endemica\n",
      "19  5.6  3.1  2.2  1.4  sirena_migrante\n",
      "20  6.3  2.3  3.7  2.4  sirena_endemica\n",
      "21  7.8  4.2  5.6  1.3  sirena_endemica\n",
      "22  7.2  3.8  3.5  0.7  sirena_migrante\n",
      "23  6.0  3.9  4.3  1.4  sirena_endemica\n",
      "24  5.5  3.0  4.8  2.5  sirena_endemica\n",
      "25  4.4  3.2  1.6  0.5  sirena_migrante\n",
      "26  5.3  3.4  4.4  1.0  sirena_endemica\n",
      "27  4.8  3.6  6.5  1.4  sirena_endemica\n",
      "28  7.6  4.3  4.2  1.4  sirena_endemica\n",
      "29  5.3  3.3  1.2  1.5  sirena_migrante\n",
      "30  5.7  3.4  2.9  2.4  sirena_migrante\n",
      "31  5.2  3.5  2.5  0.5  sirena_migrante\n",
      "32  5.7  3.4  4.6  1.1  sirena_endemica\n",
      "33  7.5  4.2  6.8  0.2  sirena_endemica\n",
      "34  5.1  3.2  4.4  0.7  sirena_endemica\n",
      "35  5.9  3.5  3.0  1.6  sirena_migrante\n",
      "36  7.3  3.8  5.6  0.3  sirena_endemica\n",
      "37  6.7  3.0  1.2  2.0  sirena_migrante\n",
      "38  7.2  2.6  1.1  0.2  sirena_migrante\n"
     ]
    }
   ],
   "source": [
    "# Los resultados obtenidos en el archivo final, son los siguientes:\n",
    "print(x_pred)"
   ]
  }
 ],
 "metadata": {
  "kernelspec": {
   "display_name": "Python 3",
   "language": "python",
   "name": "python3"
  },
  "language_info": {
   "codemirror_mode": {
    "name": "ipython",
    "version": 3
   },
   "file_extension": ".py",
   "mimetype": "text/x-python",
   "name": "python",
   "nbconvert_exporter": "python",
   "pygments_lexer": "ipython3",
   "version": "3.6.1"
  }
 },
 "nbformat": 4,
 "nbformat_minor": 2
}
