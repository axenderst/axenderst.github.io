{
 "cells": [
  {
   "cell_type": "markdown",
   "metadata": {},
   "source": [
    "<h1><center>Desafío Aguas Venenosas</center></h1>\n",
    "\n",
    "Los aldeanos de la isla en la que te encuentras son víctimas de conflictos entre tribus. El método más usado para resolver conflictos ha sido el envenenamiento de aguas enemigas.\n",
    "\n",
    "Una de las tribus está diseñando un detector de veneno. Ellos lograron identificar las 10 características mínimas y requeridas que hacen de una sustancia una sustancia venenosa para su especie (veneno.csv). Tu has recibido un dataset (sustancias_diversas.csv) de 500 sustancias diversas con las 10 características, estas sustancias fueron encontradas en distintos lagos cada una. La idea es clausurar lagos infectados. La tropa que cerrará los lagos infectados tiene sólo 50 miembros, tu debes entregar un dataset con las primeros 50 lagos que cerrará cada miembro de la tropa.\n",
    "<ul>\n",
    "\n",
    "<li>A.\tExplora tus datasets.</li>\n",
    "<li>B.\tExplica la idea general de tu solución con dibujos, diagramas, videos, legos, bolitas de plastilina, etc.</li>\n",
    "<li>C.\tImplementa tu solución explicando los pasos que usas.</li>\n",
    "<li>D.\tGuarda las 50 sustancias en un archivo nombrado urgente_orden_de_cierre.csv</li>\n",
    "<li>E.\t(Opcional) Si crees que es necesario ordenarlas en algún orden específico, indícalo.</li>\n",
    "\n",
    "<ul>"
   ]
  },
  {
   "cell_type": "markdown",
   "metadata": {},
   "source": [
    "<h2>Declaración de Librerías utilizadas</h2>"
   ]
  },
  {
   "cell_type": "code",
   "execution_count": 3,
   "metadata": {
    "collapsed": true
   },
   "outputs": [],
   "source": [
    "import pandas as pd\n",
    "from scipy.spatial import distance\n",
    "from sklearn.preprocessing import normalize"
   ]
  },
  {
   "cell_type": "markdown",
   "metadata": {},
   "source": [
    "<center><h1>A. Exploración de los Datasets</h1></center>\n",
    "\n",
    "Carga de los datasets: El primer paso, es cargar los datos de los archivos CSV a un dataframe utilizando la librería pandas (previamente declarada), para poder manipular los datos.\n",
    "\n",
    "Contamos con 2 archivos:\n",
    "<ul>\n",
    "<li>veneno.csv</li>\n",
    "<li>sustancias_diversas.csv</li>\n",
    "</ul>"
   ]
  },
  {
   "cell_type": "code",
   "execution_count": 4,
   "metadata": {
    "collapsed": true
   },
   "outputs": [],
   "source": [
    "#Utilizamos el método read_csv para leer los archivos y cargarlos a un dataframe cada uno\n",
    "#Pasamos los parámetros header e index_col para indicar que contienen encabezado y nombres de fila.\n",
    "\n",
    "df_veneno = pd.read_csv('./datasets/veneno.csv', header=0, index_col=0)\n",
    "df_sustancias = pd.read_csv('./datasets/sustancias_diversas.csv', header=0, index_col=0)"
   ]
  },
  {
   "cell_type": "markdown",
   "metadata": {},
   "source": [
    "<h2>Exploración inicial de los datasets</h2>\n",
    "<p>Se utiliza el método describe, para tener una idea general del contenido de los archivos proporcionados</p>"
   ]
  },
  {
   "cell_type": "code",
   "execution_count": 7,
   "metadata": {},
   "outputs": [
    {
     "name": "stdout",
     "output_type": "stream",
     "text": [
      "               v1          v2           v3          v4           v5  \\\n",
      "count  500.000000  500.000000   500.000000  500.000000   500.000000   \n",
      "mean    20.977800   55.915400  2122.973800  165.231200  4536.858200   \n",
      "std      1.667359    4.483171   165.021963   13.069945   354.197585   \n",
      "min     16.800000   45.000000  1705.700000  132.100000  3624.600000   \n",
      "25%     20.800000   55.400000  2111.050000  163.100000  4485.775000   \n",
      "50%     21.000000   55.900000  2129.800000  164.750000  4532.750000   \n",
      "75%     21.200000   56.500000  2147.625000  166.125000  4572.550000   \n",
      "max     25.200000   67.200000  2556.800000  197.500000  5430.000000   \n",
      "\n",
      "               v6          v7          v8          v9         v10  \n",
      "count  500.000000  500.000000  500.000000  500.000000  500.000000  \n",
      "mean     1.001600    2.107600    3.799600  538.805200   23.677000  \n",
      "std      0.086559    0.170765    0.315021   41.981127    1.976893  \n",
      "min      0.800000    1.700000    3.000000  430.700000   19.000000  \n",
      "25%      1.000000    2.100000    3.800000  532.875000   23.500000  \n",
      "50%      1.000000    2.100000    3.800000  537.100000   23.700000  \n",
      "75%      1.000000    2.100000    3.800000  542.800000   23.900000  \n",
      "max      1.200000    2.500000    4.600000  644.300000   28.400000  \n",
      "         v1    v2      v3     v4      v5   v6    v7   v8     v9   v10\n",
      "count   1.0   1.0     1.0    1.0     1.0  1.0  1.00  1.0    1.0   1.0\n",
      "mean   21.0  56.0  2131.4  164.6  4527.9  1.0  2.09  3.8  538.0  23.7\n",
      "std     NaN   NaN     NaN    NaN     NaN  NaN   NaN  NaN    NaN   NaN\n",
      "min    21.0  56.0  2131.4  164.6  4527.9  1.0  2.09  3.8  538.0  23.7\n",
      "25%    21.0  56.0  2131.4  164.6  4527.9  1.0  2.09  3.8  538.0  23.7\n",
      "50%    21.0  56.0  2131.4  164.6  4527.9  1.0  2.09  3.8  538.0  23.7\n",
      "75%    21.0  56.0  2131.4  164.6  4527.9  1.0  2.09  3.8  538.0  23.7\n",
      "max    21.0  56.0  2131.4  164.6  4527.9  1.0  2.09  3.8  538.0  23.7\n"
     ]
    }
   ],
   "source": [
    "print(df_sustancias.describe(percentiles=None, include=None, exclude=None))\n",
    "print(df_veneno.describe(percentiles=None, include=None, exclude=None))"
   ]
  },
  {
   "cell_type": "markdown",
   "metadata": {},
   "source": [
    "<p>De la sumarización anterior podemos identificar, entre otras cosas que:</p>\n",
    "<ul>\n",
    "<li>El archivo veneno contiene únicamente un vector</li>\n",
    "<li>La información es de tipo numérico</li>\n",
    "<li>Los dataset No contienen valores vacíos o nulos</li>\n",
    "<li> La desviación es proporcional al rango numérico</li>\n",
    "</ul> "
   ]
  },
  {
   "cell_type": "markdown",
   "metadata": {},
   "source": [
    "<center><h2>B. Descripción de la solución</h2></center>"
   ]
  },
  {
   "cell_type": "markdown",
   "metadata": {},
   "source": [
    "<img src=\"./img/veneno.jpg\">"
   ]
  },
  {
   "cell_type": "markdown",
   "metadata": {},
   "source": [
    "Se identifica que la información con la que se cuenta esta completa, por lo que no será necesario realizar grandes esfuerzos de pre-procesamiento de datos.\n",
    "\n",
    "Definimos el objetivo de este desafío como sigue: \n",
    "<center><b>Identificar las 50 sustancias más similares al veneno</b></center>\n",
    "\n",
    "Con el objetivo de identificar estas sustancias, se define como estrategia el Cálculo de la distancia euclidiana de las sustancias en relación al veneno."
   ]
  },
  {
   "cell_type": "markdown",
   "metadata": {},
   "source": [
    "<h2>Algoritmo</h2>\n",
    "\n",
    "* Cargar los datasets a un dataframe\n",
    "* Normalizar los datasets\n",
    "* Calcular la distancia euclidiana de cada sustancia en relación al veneno\n",
    "* Seleccionar las 50 sustancias con menor distancia euclidiana\n",
    "* Generar el archivo: urgente_orden_de_cierre.csv"
   ]
  },
  {
   "cell_type": "markdown",
   "metadata": {},
   "source": [
    "<center><h1>C. Implementación de la solución</h1></center>"
   ]
  },
  {
   "cell_type": "code",
   "execution_count": 10,
   "metadata": {},
   "outputs": [
    {
     "name": "stdout",
     "output_type": "stream",
     "text": [
      "[[ 0.00438067  0.00860172  0.43443122 ...,  0.00067395  0.10087956\n",
      "   0.00352937]\n",
      " [ 0.0041515   0.01111021  0.41805621 ...,  0.00075122  0.10730643\n",
      "   0.00468527]\n",
      " [ 0.0035219   0.01099143  0.3977426  ...,  0.00089015  0.08351937\n",
      "   0.00454751]\n",
      " ..., \n",
      " [ 0.00416282  0.0111938   0.42319333 ...,  0.00075688  0.10699838\n",
      "   0.00474043]\n",
      " [ 0.00359713  0.01151913  0.44103284 ...,  0.00066536  0.0938788\n",
      "   0.00474072]\n",
      " [ 0.00505932  0.01438389  0.48229142 ...,  0.00070331  0.14229616\n",
      "   0.00487782]]\n"
     ]
    }
   ],
   "source": [
    "#La carga de los datasets se hizo en un paso anterior, por lo que procedemos a realizar la normalización de los dataframes\n",
    "\n",
    "#Normalizando los datasets (norm-l2)\n",
    "veneno = df_veneno.as_matrix(columns=None)\n",
    "NormL2_veneno = normalize(veneno, norm='l2')\n",
    "\n",
    "sustancias = df_sustancias.as_matrix(columns=None)\n",
    "NormL2_sustancias = normalize(sustancias, norm='l2')\n",
    "\n",
    "#Ejemplo del dataset normalizado:\n",
    "print(NormL2_sustancias)"
   ]
  },
  {
   "cell_type": "code",
   "execution_count": 15,
   "metadata": {
    "collapsed": true
   },
   "outputs": [],
   "source": [
    "#Calculando la distancia euclidiana de cada sustancia vs el veneno:\n",
    "distancia = [] # Instanciar lista vacía\n",
    "\n",
    "#Recorrer el dataframe de sustancias y por cada fila, calcular la distancia euclidiana\n",
    "for vector in NormL2_sustancias :\n",
    "    euc_distancia = distance.euclidean(NormL2_veneno, vector)\n",
    "    distancia.append(euc_distancia) #Vector resultante con las distancias"
   ]
  },
  {
   "cell_type": "markdown",
   "metadata": {},
   "source": [
    "<center><h1>D y E. Generación del archivo Ordenado</h1></center>"
   ]
  },
  {
   "cell_type": "code",
   "execution_count": 16,
   "metadata": {},
   "outputs": [
    {
     "name": "stdout",
     "output_type": "stream",
     "text": [
      "       v1    v2      v3     v4      v5   v6   v7   v8     v9   v10  \\\n",
      "id                                                                   \n",
      "338  20.9  56.2  2124.7  164.6  4513.6  1.0  2.1  3.8  537.2  23.8   \n",
      "382  20.8  55.8  2126.4  165.6  4517.7  1.0  2.1  3.8  536.8  23.8   \n",
      "135  20.9  56.4  2130.9  163.1  4524.8  1.0  2.1  3.8  536.8  23.8   \n",
      "374  21.2  56.2  2131.8  164.3  4526.1  1.0  2.1  3.8  535.9  23.6   \n",
      "269  21.0  56.1  2143.3  165.2  4558.3  1.0  2.1  3.8  542.2  23.8   \n",
      "470  21.2  56.0  2128.5  166.1  4520.7  1.0  2.1  3.8  538.8  23.9   \n",
      "370  21.0  55.5  2151.0  165.7  4573.0  1.0  2.1  3.8  541.7  23.6   \n",
      "137  20.8  55.9  2113.8  164.8  4488.1  1.0  2.1  3.8  534.8  23.7   \n",
      "331  21.2  56.4  2145.1  165.4  4557.8  1.0  2.1  3.8  539.0  23.8   \n",
      "387  21.0  56.1  2119.0  163.5  4502.5  1.0  2.1  3.8  537.6  23.9   \n",
      "130  20.8  56.2  2141.3  165.6  4555.1  1.0  2.1  3.8  540.2  23.7   \n",
      "104  20.8  55.9  2128.6  164.6  4523.1  1.0  2.1  3.8  534.6  23.9   \n",
      "171  20.9  55.6  2145.8  163.3  4558.1  1.0  2.1  3.8  539.9  23.6   \n",
      "393  21.2  56.5  2139.9  164.5  4544.4  1.0  2.1  3.8  537.1  23.8   \n",
      "208  21.1  56.3  2123.3  165.2  4517.4  1.0  2.1  3.8  536.7  23.8   \n",
      "1    20.8  55.7  2114.0  164.9  4496.3  1.0  2.1  3.8  532.7  23.7   \n",
      "311  21.0  56.4  2134.0  163.6  4539.9  1.0  2.1  3.8  538.7  23.8   \n",
      "45   21.0  56.4  2138.3  163.7  4542.9  1.0  2.1  3.8  542.6  23.8   \n",
      "27   20.8  55.8  2126.0  165.0  4513.4  1.0  2.1  3.8  533.6  23.7   \n",
      "163  20.8  55.8  2118.8  165.6  4496.7  1.0  2.1  3.8  532.9  23.6   \n",
      "123  21.1  55.6  2127.9  163.5  4523.3  1.0  2.1  3.8  540.3  23.7   \n",
      "84   21.0  56.3  2130.2  165.4  4524.3  1.0  2.1  3.8  534.3  23.8   \n",
      "150  20.8  56.0  2114.1  164.5  4498.7  1.0  2.1  3.8  535.1  23.8   \n",
      "25   21.2  55.7  2127.4  165.0  4518.6  1.0  2.1  3.8  540.5  23.6   \n",
      "205  21.0  56.3  2139.2  163.8  4541.4  1.0  2.1  3.8  536.4  23.8   \n",
      "131  21.0  55.9  2118.7  163.0  4508.9  1.0  2.1  3.8  534.2  23.5   \n",
      "306  21.1  56.4  2139.4  164.8  4552.9  1.0  2.1  3.8  542.4  23.8   \n",
      "412  20.8  56.5  2116.4  166.2  4495.8  1.0  2.1  3.8  536.7  23.9   \n",
      "442  20.9  55.7  2115.3  164.7  4495.6  1.0  2.1  3.8  538.0  23.5   \n",
      "139  21.1  55.8  2116.4  166.2  4503.7  1.0  2.1  3.8  535.3  23.6   \n",
      "320  21.2  55.6  2133.3  164.2  4526.8  1.0  2.1  3.8  541.8  23.8   \n",
      "350  20.8  56.3  2140.6  163.5  4556.6  1.0  2.1  3.8  540.8  23.5   \n",
      "378  21.0  55.6  2136.6  165.4  4535.8  1.0  2.1  3.8  543.3  23.7   \n",
      "244  20.9  55.6  2146.3  163.8  4550.5  1.0  2.1  3.8  539.1  23.5   \n",
      "328  21.1  56.3  2131.0  166.1  4537.4  1.0  2.1  3.8  540.2  23.8   \n",
      "376  20.9  56.0  2141.4  163.7  4540.9  1.0  2.1  3.8  536.6  23.8   \n",
      "417  20.9  56.5  2131.6  163.9  4528.8  1.0  2.1  3.8  533.2  23.8   \n",
      "399  21.0  55.8  2142.2  163.7  4557.3  1.0  2.1  3.8  537.7  23.5   \n",
      "256  21.0  55.5  2141.6  164.5  4538.0  1.0  2.1  3.8  539.5  23.9   \n",
      "109  20.9  55.6  2129.5  165.3  4535.6  1.0  2.1  3.8  540.1  23.7   \n",
      "265  20.9  55.9  2128.1  166.1  4527.9  1.0  2.1  3.8  541.9  23.8   \n",
      "489  21.1  55.9  2115.8  163.3  4501.6  1.0  2.1  3.8  539.1  23.8   \n",
      "67   21.1  55.8  2132.4  164.5  4518.7  1.0  2.1  3.8  534.7  23.9   \n",
      "432  20.8  55.6  2114.5  165.5  4503.9  1.0  2.1  3.8  536.2  23.9   \n",
      "472  20.9  55.8  2136.5  165.6  4545.4  1.0  2.1  3.8  535.0  23.5   \n",
      "96   21.1  55.7  2135.8  165.9  4527.5  1.0  2.1  3.8  534.1  23.9   \n",
      "271  21.2  56.0  2135.2  165.2  4550.1  1.0  2.1  3.8  540.7  23.6   \n",
      "425  21.2  56.3  2144.3  164.2  4561.6  1.0  2.1  3.8  536.5  23.7   \n",
      "89   20.8  56.1  2133.6  165.0  4542.1  1.0  2.1  3.8  534.7  23.6   \n",
      "287  20.9  55.8  2126.6  164.5  4532.3  1.0  2.1  3.8  539.2  23.6   \n",
      "\n",
      "     dist Euclid  \n",
      "id                \n",
      "338     0.000221  \n",
      "382     0.000279  \n",
      "135     0.000381  \n",
      "374     0.000451  \n",
      "269     0.000465  \n",
      "470     0.000487  \n",
      "370     0.000488  \n",
      "137     0.000492  \n",
      "331     0.000505  \n",
      "387     0.000542  \n",
      "130     0.000553  \n",
      "104     0.000567  \n",
      "171     0.000602  \n",
      "393     0.000604  \n",
      "208     0.000613  \n",
      "1       0.000616  \n",
      "311     0.000625  \n",
      "45      0.000628  \n",
      "27      0.000629  \n",
      "163     0.000640  \n",
      "123     0.000653  \n",
      "84      0.000687  \n",
      "150     0.000695  \n",
      "25      0.000730  \n",
      "205     0.000740  \n",
      "131     0.000751  \n",
      "306     0.000755  \n",
      "412     0.000768  \n",
      "442     0.000828  \n",
      "139     0.000829  \n",
      "320     0.000879  \n",
      "350     0.000881  \n",
      "378     0.000897  \n",
      "244     0.000915  \n",
      "328     0.000943  \n",
      "376     0.000970  \n",
      "417     0.000983  \n",
      "399     0.000984  \n",
      "256     0.000990  \n",
      "109     0.001040  \n",
      "265     0.001042  \n",
      "489     0.001050  \n",
      "67      0.001077  \n",
      "432     0.001110  \n",
      "472     0.001130  \n",
      "96      0.001179  \n",
      "271     0.001194  \n",
      "425     0.001218  \n",
      "89      0.001239  \n",
      "287     0.001251  \n"
     ]
    }
   ],
   "source": [
    "#Generamos el archivo: urgente_orden_de_cierre.csv\n",
    "\n",
    "df_sustancias['dist Euclid'] = distancia #Agregamos el vector de distancias como columna al dataset de sustancias\n",
    "df_urgente = df_sustancias.nsmallest(50, 'dist Euclid', keep='first') # Seleccionamos las 50 distancias más pequeñas\n",
    "\n",
    "df_urgente.to_csv('urgente_orden_de_cierre.csv') # Generamos el archivo.\n",
    "\n",
    "#El resultado ORDENADO de más urgente a menos urgente es el siguiente: \n",
    "print (df_urgente)"
   ]
  }
 ],
 "metadata": {
  "kernelspec": {
   "display_name": "Python 3",
   "language": "python",
   "name": "python3"
  },
  "language_info": {
   "codemirror_mode": {
    "name": "ipython",
    "version": 3
   },
   "file_extension": ".py",
   "mimetype": "text/x-python",
   "name": "python",
   "nbconvert_exporter": "python",
   "pygments_lexer": "ipython3",
   "version": "3.6.1"
  }
 },
 "nbformat": 4,
 "nbformat_minor": 2
}
