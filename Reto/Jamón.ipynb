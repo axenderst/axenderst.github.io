{
 "cells": [
  {
   "cell_type": "markdown",
   "metadata": {},
   "source": [
    "<center><h1>Desafío para hacerla de jamón</h1></center>\n",
    "\n",
    "Una tribu pacífica de la isla tiene un concurso legendario de jamones. El jurado es muy longevo y este año ha perdido a más de la mitad de sus miembros. La tribu te ha enviado una base de datos (score_de_jamonosidad.csv) de los últimos concursos. En esta base de datos se enlistan distintos especímenes de jamones con la calificación que el jurado otorgó a cada uno. También has recibido una base de datos de jamones no calificados (jamones_por_calificar.csv) que deberás calificar, honrando el espíritu del jurado.\n",
    "<ul>\n",
    "<li>A.\tExplica la idea general de tu solución con dibujos, diagramas, videos, legos, bolitas de plastilina, etc.</li>\n",
    "<li>B.\tImplementa tu solución explicando los pasos. </li>\n",
    "<li>C.\tCompleta el archivo jamones_por_calificar.csv con tu veredicto.</li>\n",
    "</ul>"
   ]
  },
  {
   "cell_type": "markdown",
   "metadata": {},
   "source": [
    "<center><h1>A. Explicación de la solución</h1></center>"
   ]
  },
  {
   "attachments": {},
   "cell_type": "markdown",
   "metadata": {},
   "source": [
    "<img src=\"./img/jamon_diag.jpg\">"
   ]
  },
  {
   "cell_type": "markdown",
   "metadata": {},
   "source": [
    "El diseño de la solución se realiza tomando en cuenta que existe la necesidad de predecir el valor que deberá asignársele a cada jamón que aún no ha sido calificado, con base a lo calificado anteriormente. Por lo mismo, se decide implementar un modelo de regresión lineal, ya que este permite realizar este tipo de predicciónes.\n",
    "\n",
    "Para esto, se define utilizar el modelo de regesión lineal simple (Mínimos cuadrados ordinarios).\n",
    "\n",
    "Definimos el siguiente algoritmo para la implementación:\n",
    "\n",
    "* Carga de los datos históricos de las calificaciones de los jamones\n",
    "* Definición de los sub-datasets para entrenamiento y evaluación del desempeño del modelo.\n",
    "* Entrenamiento del modelo de Regresión lineal simple\n",
    "* Evaluación del desempeño del modelo\n",
    "* Predicción de las calificaciones\n",
    "* Generación del archivo con resultados\n"
   ]
  },
  {
   "cell_type": "markdown",
   "metadata": {},
   "source": [
    "<center><h1>B. Implementación de la solución</h1></center>"
   ]
  },
  {
   "cell_type": "code",
   "execution_count": 1,
   "metadata": {
    "collapsed": true
   },
   "outputs": [],
   "source": [
    "# Importación de las librerías necesarias\n",
    "import pandas as pd\n",
    "import numpy as np\n",
    "from sklearn import linear_model\n",
    "from sklearn.metrics import mean_squared_error"
   ]
  },
  {
   "cell_type": "code",
   "execution_count": 2,
   "metadata": {
    "collapsed": true
   },
   "outputs": [],
   "source": [
    "#Cargar los datos y las calificaciones de los jamones (Histórico)\n",
    "data = pd.read_csv('./datasets/score_de_jamonosidad.csv',header=0)\n",
    "\n",
    "#Se toman los primeros 20 registros para el entrenamiento del modelo\n",
    "#Del dataframe, se utilizan las columnas de la 2 a la 5 como atributos.\n",
    "x_train = data.iloc[:20,2:5]\n",
    "\n",
    "# Se toman los restantes registros para la evaluación del desempeño del modelo\n",
    "x_test = data.iloc[20:30, 2:5]\n",
    "\n",
    "# Se generan los sub-datasets correspondientes a los targets\n",
    "y_train = data.iloc[:20,1:2] #Target de entrenamiento\n",
    "y_test = data.iloc[20:30, 1:2] #Target de evaluación"
   ]
  },
  {
   "cell_type": "code",
   "execution_count": 3,
   "metadata": {},
   "outputs": [
    {
     "name": "stdout",
     "output_type": "stream",
     "text": [
      "Mean squared error: 3.40\n"
     ]
    }
   ],
   "source": [
    "#Generación del modelo de regresión lineal:\n",
    "\n",
    "# Generar la instancia de regresión lineal\n",
    "regr = linear_model.LinearRegression()\n",
    "\n",
    "# Entrenar el modelo usando los sub-datasets de atributos y valores target\n",
    "regr.fit(x_train, y_train)\n",
    "\n",
    "\n",
    "# Evaluación del modelo\n",
    "prediccion = regr.predict(x_test)\n",
    "# The mean squared error\n",
    "print(\"Mean squared error: %.2f\"\n",
    "      % mean_squared_error(y_test, prediccion))"
   ]
  },
  {
   "cell_type": "markdown",
   "metadata": {},
   "source": [
    "<center><h1>C. Completar Archivo de jamones por calificar</h1></center>"
   ]
  },
  {
   "cell_type": "code",
   "execution_count": 9,
   "metadata": {},
   "outputs": [
    {
     "name": "stdout",
     "output_type": "stream",
     "text": [
      "    jamon  score    v1  v2    v3\n",
      "0      29      9  2383  59  1857\n",
      "1      30      4  1598  61  2696\n",
      "2      31     13  2883  67  1865\n",
      "3      32      7  2898  56  2822\n",
      "4      33      9  2877  44  1553\n",
      "5      34      4  1966  55  2683\n",
      "6      35      5  1786  66  2823\n",
      "7      36     11  2813  63  2199\n",
      "8      37      8  2882  52  2187\n",
      "9      38     10  2859  49  1498\n",
      "10     39     10  2334  64  1902\n"
     ]
    }
   ],
   "source": [
    "# Primero cargamos el archivo que tenemos que calificar\n",
    "sinCalificar= pd.read_csv('./datasets/jamones_por_calificar.csv',header=0)\n",
    "x = sinCalificar.iloc[:11,2:5] #Tomamos las columnas 2 al 5 como atributo\n",
    "\n",
    "#Calcular la predicción de las calificaciones:\n",
    "#Usando el modelo previamente entrenado con regresión logística, realizamos predicción de los valores por calificar\n",
    "resultados = regr.predict(x)\n",
    "\n",
    "#Redondeando los resultados obtenidos:\n",
    "sinCalificar['score'] = rounded\n",
    "sinCalificar['score']=pd.to_numeric(sinCalificar['score']).round(0).astype(int)\n",
    "\n",
    "#Generamos el archivo final\n",
    "sinCalificar.to_csv('jamones_por_calificar.csv')\n",
    "\n",
    "#Los resultados obtenidos en el archivo son los siguientes: \n",
    "print(sinCalificar)"
   ]
  }
 ],
 "metadata": {
  "kernelspec": {
   "display_name": "Python 3",
   "language": "python",
   "name": "python3"
  },
  "language_info": {
   "codemirror_mode": {
    "name": "ipython",
    "version": 3
   },
   "file_extension": ".py",
   "mimetype": "text/x-python",
   "name": "python",
   "nbconvert_exporter": "python",
   "pygments_lexer": "ipython3",
   "version": "3.6.1"
  }
 },
 "nbformat": 4,
 "nbformat_minor": 2
}
